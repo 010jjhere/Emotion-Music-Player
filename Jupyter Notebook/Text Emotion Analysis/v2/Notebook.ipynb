{
 "cells": [
  {
   "cell_type": "code",
   "execution_count": 1,
   "metadata": {
    "executionInfo": {
     "elapsed": 26,
     "status": "ok",
     "timestamp": 1705402704673,
     "user": {
      "displayName": "Rikin Zala",
      "userId": "12097819518315247097"
     },
     "user_tz": -330
    },
    "id": "enH-qOdOyItj",
    "tags": []
   },
   "outputs": [],
   "source": [
    "import pickle"
   ]
  },
  {
   "cell_type": "code",
   "execution_count": 2,
   "metadata": {
    "executionInfo": {
     "elapsed": 3490,
     "status": "ok",
     "timestamp": 1705402773526,
     "user": {
      "displayName": "Rikin Zala",
      "userId": "12097819518315247097"
     },
     "user_tz": -330
    },
    "id": "a5-VUEVizd-R",
    "tags": []
   },
   "outputs": [],
   "source": [
    "with open(\"./model/emotion_classifier_pipe_lr.pkl\", 'rb') as f:\n",
    "  pipe_lr = pickle.load(f)"
   ]
  },
  {
   "cell_type": "code",
   "execution_count": 3,
   "metadata": {
    "executionInfo": {
     "elapsed": 1083,
     "status": "ok",
     "timestamp": 1705402782946,
     "user": {
      "displayName": "Rikin Zala",
      "userId": "12097819518315247097"
     },
     "user_tz": -330
    },
    "id": "-TgOPxv95qhP",
    "tags": []
   },
   "outputs": [],
   "source": [
    "# Function\n",
    "def predict_emotions(docx):\n",
    "    results = pipe_lr.predict([docx])\n",
    "    return results[0]\n",
    "\n",
    "def get_prediction_proba(docx):\n",
    "    results = pipe_lr.predict_proba([docx])\n",
    "    return results"
   ]
  },
  {
   "cell_type": "code",
   "execution_count": 4,
   "metadata": {
    "executionInfo": {
     "elapsed": 13,
     "status": "ok",
     "timestamp": 1705402783497,
     "user": {
      "displayName": "Rikin Zala",
      "userId": "12097819518315247097"
     },
     "user_tz": -330
    },
    "id": "oOW-4DJn61lW",
    "tags": []
   },
   "outputs": [],
   "source": [
    "def text_emotion_detection(raw_text):\n",
    "    prediction = predict_emotions(raw_text)\n",
    "    probability = get_prediction_proba(raw_text)\n",
    "\n",
    "    results = []\n",
    "    for label, probs in zip(pipe_lr.classes_, probability[0]):\n",
    "        results.append({'label': label, 'probability': probs})\n",
    "\n",
    "    results = sorted(results, key=lambda x: x['probability'], reverse=True)\n",
    "\n",
    "    return results"
   ]
  },
  {
   "cell_type": "code",
   "execution_count": 5,
   "metadata": {
    "colab": {
     "base_uri": "https://localhost:8080/"
    },
    "executionInfo": {
     "elapsed": 24,
     "status": "ok",
     "timestamp": 1705402787654,
     "user": {
      "displayName": "Rikin Zala",
      "userId": "12097819518315247097"
     },
     "user_tz": -330
    },
    "id": "PGVuYMTk63z8",
    "outputId": "33f16607-79a5-48f4-c7c9-6094a1395b60",
    "tags": []
   },
   "outputs": [],
   "source": [
    "def do_prediction(text):\n",
    "    result = text_emotion_detection(text)\n",
    "    \n",
    "    print(\"Predicted Emotions and Probability:\", f\"{result[0]['label']}, {result[0]['probability']}\\n\")\n",
    "    \n",
    "    return result"
   ]
  },
  {
   "cell_type": "code",
   "execution_count": 6,
   "metadata": {
    "executionInfo": {
     "elapsed": 16,
     "status": "ok",
     "timestamp": 1705402785741,
     "user": {
      "displayName": "Rikin Zala",
      "userId": "12097819518315247097"
     },
     "user_tz": -330
    },
    "id": "fpYzuvlDN7sJ",
    "tags": []
   },
   "outputs": [
    {
     "name": "stdout",
     "output_type": "stream",
     "text": [
      "Predicted Emotions and Probability: joy, 0.33203019846063025\n",
      "\n"
     ]
    },
    {
     "data": {
      "text/plain": [
       "[{'label': 'joy', 'probability': 0.33203019846063025},\n",
       " {'label': 'anger', 'probability': 0.2876908498231267},\n",
       " {'label': 'sadness', 'probability': 0.17630134906303635},\n",
       " {'label': 'fear', 'probability': 0.16217570567573777},\n",
       " {'label': 'surprise', 'probability': 0.025130663588520497},\n",
       " {'label': 'disgust', 'probability': 0.016560099008671923},\n",
       " {'label': 'shame', 'probability': 0.00010642425606916083},\n",
       " {'label': 'neutral', 'probability': 4.710124207415196e-06}]"
      ]
     },
     "execution_count": 6,
     "metadata": {},
     "output_type": "execute_result"
    }
   ],
   "source": [
    "input_sentence = '''\n",
    "look out I've tried everything it's writing different features turning the hyperparameters in the mall and stuff what else I can do it just won't go up\n",
    "'''\n",
    "\n",
    "do_prediction(input_sentence)"
   ]
  },
  {
   "cell_type": "code",
   "execution_count": 7,
   "metadata": {
    "id": "YvW8cM2C7WJc"
   },
   "outputs": [
    {
     "name": "stdout",
     "output_type": "stream",
     "text": [
      "He's over the moon about being accepted to the university\n",
      "Predicted Emotions and Probability: joy, 0.9251412772319376\n",
      "\n",
      "\n",
      "\n",
      "Your point on this certain matter made me outrageous, how can you say so? This is insane.\n",
      "Predicted Emotions and Probability: sadness, 0.4718732535931861\n",
      "\n",
      "\n",
      "\n",
      "I can't do it, I'm not ready to lose anything, just leave me alone\n",
      "Predicted Emotions and Probability: fear, 0.41685468742995063\n",
      "\n",
      "\n",
      "\n",
      "Merlin's beard harry, you can cast the Patronus charm! I'm amazed!\n",
      "Predicted Emotions and Probability: sadness, 0.6840612064803724\n",
      "\n",
      "\n",
      "\n"
     ]
    }
   ],
   "source": [
    "sentences = [\n",
    "    \"He's over the moon about being accepted to the university\",\n",
    "    \"Your point on this certain matter made me outrageous, how can you say so? This is insane.\",\n",
    "    \"I can't do it, I'm not ready to lose anything, just leave me alone\",\n",
    "    \"Merlin's beard harry, you can cast the Patronus charm! I'm amazed!\"\n",
    "]\n",
    "\n",
    "for sentence in sentences:\n",
    "    print(sentence)\n",
    "    do_prediction(sentence)\n",
    "    print(\"\\n\")"
   ]
  },
  {
   "cell_type": "code",
   "execution_count": null,
   "metadata": {},
   "outputs": [],
   "source": []
  }
 ],
 "metadata": {
  "colab": {
   "authorship_tag": "ABX9TyMjkinwjIBDWoo4WFgH3/e1",
   "provenance": []
  },
  "kernelspec": {
   "display_name": "Python 3 (ipykernel)",
   "language": "python",
   "name": "python3"
  },
  "language_info": {
   "codemirror_mode": {
    "name": "ipython",
    "version": 3
   },
   "file_extension": ".py",
   "mimetype": "text/x-python",
   "name": "python",
   "nbconvert_exporter": "python",
   "pygments_lexer": "ipython3",
   "version": "3.11.3"
  }
 },
 "nbformat": 4,
 "nbformat_minor": 4
}
