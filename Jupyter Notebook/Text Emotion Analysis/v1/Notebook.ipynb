{
 "cells": [
  {
   "cell_type": "code",
   "execution_count": 1,
   "metadata": {
    "executionInfo": {
     "elapsed": 26,
     "status": "ok",
     "timestamp": 1705400767610,
     "user": {
      "displayName": "Rikin Zala",
      "userId": "12097819518315247097"
     },
     "user_tz": -330
    },
    "id": "17YEG3LuYg_p",
    "tags": []
   },
   "outputs": [],
   "source": [
    "import pickle\n",
    "from tensorflow.keras.models import load_model\n",
    "from tensorflow.keras.preprocessing.sequence import pad_sequences"
   ]
  },
  {
   "cell_type": "code",
   "execution_count": 2,
   "metadata": {
    "executionInfo": {
     "elapsed": 3926,
     "status": "ok",
     "timestamp": 1705400774942,
     "user": {
      "displayName": "Rikin Zala",
      "userId": "12097819518315247097"
     },
     "user_tz": -330
    },
    "id": "I2XReQB4aAG3",
    "tags": []
   },
   "outputs": [],
   "source": [
    "model = load_model(\"./model/nlp_model.h5\")\n",
    "\n",
    "with open(\"./model/tokenizer.pkl\", 'rb') as f:\n",
    "  tokenizer = pickle.load(f)\n",
    "\n",
    "with open(\"./model/encoder.pkl\", 'rb') as f:\n",
    "  encoder = pickle.load(f)"
   ]
  },
  {
   "cell_type": "code",
   "execution_count": 3,
   "metadata": {
    "executionInfo": {
     "elapsed": 770,
     "status": "ok",
     "timestamp": 1705400958712,
     "user": {
      "displayName": "Rikin Zala",
      "userId": "12097819518315247097"
     },
     "user_tz": -330
    },
    "id": "hvj3Ytc_cuO6",
    "tags": []
   },
   "outputs": [],
   "source": [
    "def text_prediction(text):\n",
    "    sequences = tokenizer.texts_to_sequences([text])\n",
    "    x_new = pad_sequences(sequences, maxlen=50)\n",
    "    predictions = model.predict([x_new, x_new])\n",
    "\n",
    "    results = []\n",
    "\n",
    "    for label, conf in zip(encoder.classes_, predictions[0]):\n",
    "                \n",
    "        results.append({'label': label, 'confidence': conf})\n",
    "\n",
    "    results = sorted(results, key=lambda x: x['confidence'], reverse=True)\n",
    "\n",
    "    return results"
   ]
  },
  {
   "cell_type": "code",
   "execution_count": 4,
   "metadata": {
    "colab": {
     "base_uri": "https://localhost:8080/"
    },
    "executionInfo": {
     "elapsed": 57,
     "status": "ok",
     "timestamp": 1705401452748,
     "user": {
      "displayName": "Rikin Zala",
      "userId": "12097819518315247097"
     },
     "user_tz": -330
    },
    "id": "SAM80X4TdELO",
    "outputId": "ace58552-1cae-4294-a51c-6316eee736d5",
    "tags": []
   },
   "outputs": [],
   "source": [
    "def do_prediction(input_text):\n",
    "    output = text_prediction(input_text)\n",
    "    \n",
    "    print(\"Predicted Emotion & Confidence:\", f\"{output[0]['label']}, {output[0]['confidence']}\")\n",
    "    \n",
    "    return output"
   ]
  },
  {
   "cell_type": "code",
   "execution_count": 5,
   "metadata": {
    "colab": {
     "base_uri": "https://localhost:8080/"
    },
    "executionInfo": {
     "elapsed": 40,
     "status": "ok",
     "timestamp": 1705401452751,
     "user": {
      "displayName": "Rikin Zala",
      "userId": "12097819518315247097"
     },
     "user_tz": -330
    },
    "id": "TN8LPQP4e67L",
    "outputId": "65b2b64b-cb1a-4fd7-c0e9-302f8fe61e0b",
    "tags": []
   },
   "outputs": [
    {
     "name": "stdout",
     "output_type": "stream",
     "text": [
      "1/1 [==============================] - 1s 812ms/step\n",
      "Predicted Emotion & Confidence: joy, 0.9969679713249207\n"
     ]
    },
    {
     "data": {
      "text/plain": [
       "[{'label': 'joy', 'confidence': 0.996968},\n",
       " {'label': 'fear', 'confidence': 0.0008645982},\n",
       " {'label': 'anger', 'confidence': 0.00086291943},\n",
       " {'label': 'love', 'confidence': 0.0006724529},\n",
       " {'label': 'sadness', 'confidence': 0.0004515359},\n",
       " {'label': 'surprise', 'confidence': 0.00018049433}]"
      ]
     },
     "execution_count": 5,
     "metadata": {},
     "output_type": "execute_result"
    }
   ],
   "source": [
    "do_prediction(\"Im so happy today\")"
   ]
  },
  {
   "cell_type": "code",
   "execution_count": 6,
   "metadata": {
    "colab": {
     "base_uri": "https://localhost:8080/"
    },
    "executionInfo": {
     "elapsed": 40,
     "status": "ok",
     "timestamp": 1705401452751,
     "user": {
      "displayName": "Rikin Zala",
      "userId": "12097819518315247097"
     },
     "user_tz": -330
    },
    "id": "TN8LPQP4e67L",
    "outputId": "65b2b64b-cb1a-4fd7-c0e9-302f8fe61e0b",
    "tags": []
   },
   "outputs": [
    {
     "name": "stdout",
     "output_type": "stream",
     "text": [
      "He's over the moon about being accepted to the university\n",
      "1/1 [==============================] - 0s 78ms/step\n",
      "Predicted Emotion & Confidence: love, 0.615147590637207\n",
      "\n",
      "\n",
      "Your point on this certain matter made me outrageous, how can you say so? This is insane.\n",
      "1/1 [==============================] - 0s 89ms/step\n",
      "Predicted Emotion & Confidence: sadness, 0.7220368981361389\n",
      "\n",
      "\n",
      "I can't do it, I'm not ready to lose anything, just leave me alone\n",
      "1/1 [==============================] - 0s 92ms/step\n",
      "Predicted Emotion & Confidence: sadness, 0.782436728477478\n",
      "\n",
      "\n",
      "Merlin's beard harry, you can cast the Patronus charm! I'm amazed!\n",
      "1/1 [==============================] - 0s 86ms/step\n",
      "Predicted Emotion & Confidence: surprise, 0.9983628392219543\n",
      "\n",
      "\n"
     ]
    }
   ],
   "source": [
    "sentences = [\n",
    "    \"He's over the moon about being accepted to the university\",\n",
    "    \"Your point on this certain matter made me outrageous, how can you say so? This is insane.\",\n",
    "    \"I can't do it, I'm not ready to lose anything, just leave me alone\",\n",
    "    \"Merlin's beard harry, you can cast the Patronus charm! I'm amazed!\"\n",
    "]\n",
    "\n",
    "for sentence in sentences:\n",
    "    print(sentence)\n",
    "    do_prediction(sentence)\n",
    "    print(\"\\n\")"
   ]
  }
 ],
 "metadata": {
  "colab": {
   "authorship_tag": "ABX9TyN4ss4uLMyKpInxBmxasx4d",
   "provenance": []
  },
  "kernelspec": {
   "display_name": "Python 3 (ipykernel)",
   "language": "python",
   "name": "python3"
  },
  "language_info": {
   "codemirror_mode": {
    "name": "ipython",
    "version": 3
   },
   "file_extension": ".py",
   "mimetype": "text/x-python",
   "name": "python",
   "nbconvert_exporter": "python",
   "pygments_lexer": "ipython3",
   "version": "3.11.3"
  }
 },
 "nbformat": 4,
 "nbformat_minor": 4
}
